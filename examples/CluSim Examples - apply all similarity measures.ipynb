{
 "cells": [
  {
   "cell_type": "code",
   "execution_count": 1,
   "metadata": {},
   "outputs": [],
   "source": [
    "import clusim.clugen as clugen\n",
    "import clusim.sim as sim\n",
    "from clusim.clustering import print_clustering"
   ]
  },
  {
   "cell_type": "code",
   "execution_count": 2,
   "metadata": {},
   "outputs": [
    {
     "name": "stdout",
     "output_type": "stream",
     "text": [
      "08|17|92|3|456\n",
      "0|1|8245|936|7\n",
      "            jaccard_index      0.07142857142857142\n",
      "               rand_index       0.7111111111111111\n",
      "            adjrand_index     -0.03174603174603155\n",
      "    fowlkes_mallows_index      0.13608276348795434\n",
      "                 fmeasure      0.13333333333333333\n",
      "             purity_index       0.6000000000000001\n",
      "     classification_error       0.3999999999999999\n",
      "        czekanowski_index      0.13333333333333333\n",
      "               dice_index      0.13333333333333333\n",
      "           sorensen_index      0.13333333333333333\n",
      "    rogers_tanimoto_index       0.5517241379310345\n",
      "          southwood_index      0.07692307692307693\n",
      "      pearson_correlation  -0.00011870845204178538\n",
      "         corrected_chance    -0.022401678740658508\n",
      "      sample_expected_sim      0.07142857142857142\n",
      "                      nmi       0.5455316486635409\n",
      "                       mi       1.1709505944546694\n",
      "                   adj_mi     -0.03700743364585456\n",
      "                      rmi     -0.09728645468898911\n",
      "                       vi       1.9509775004326926\n",
      "       geometric_accuracy                      0.6\n",
      "          overlap_quality                     -0.0\n",
      "                     onmi       0.4934700561224017\n",
      "              omega_index     -0.03174603174603155\n"
     ]
    }
   ],
   "source": [
    "c1 = clugen.make_random_clustering(n_elements = 10, n_clusters = 2)\n",
    "c2 = clugen.make_random_clustering(n_elements = 10, n_clusters = 5)\n",
    "\n",
    "print_clustering(c1)\n",
    "print_clustering(c2)\n",
    "\n",
    "row_format2 =\"{:>25}\" * (2)\n",
    "for simfunc in sim.available_similarity_measures:\n",
    "    print(row_format2.format(simfunc, eval('sim.' + simfunc+'(c1, c2)')))"
   ]
  },
  {
   "cell_type": "code",
   "execution_count": null,
   "metadata": {},
   "outputs": [],
   "source": []
  }
 ],
 "metadata": {
  "kernelspec": {
   "display_name": "Python 3 (ipykernel)",
   "language": "python",
   "name": "python3"
  },
  "language_info": {
   "codemirror_mode": {
    "name": "ipython",
    "version": 3
   },
   "file_extension": ".py",
   "mimetype": "text/x-python",
   "name": "python",
   "nbconvert_exporter": "python",
   "pygments_lexer": "ipython3",
   "version": "3.10.12"
  }
 },
 "nbformat": 4,
 "nbformat_minor": 2
}
