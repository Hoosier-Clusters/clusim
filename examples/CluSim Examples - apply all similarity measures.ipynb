{
 "cells": [
  {
   "cell_type": "code",
   "execution_count": 1,
   "metadata": {},
   "outputs": [],
   "source": [
    "import clusim"
   ]
  },
  {
   "cell_type": "code",
   "execution_count": 2,
   "metadata": {},
   "outputs": [
    {
     "name": "stdout",
     "output_type": "stream",
     "text": [
      "0|8135|246|7|9\n",
      "02345|19|6|7|8\n",
      "            jaccard_index       0.1111111111111111\n",
      "               rand_index       0.6444444444444445\n",
      "    fowlkes_mallows_index      0.20100756305184242\n",
      "    rogers_tanimoto_index      0.47540983606557374\n",
      "          southwood_index                    0.125\n",
      "        czekanowski_index                      0.2\n",
      "               dice_index                      0.2\n",
      "           sorensen_index                      0.2\n",
      "      pearson_correlation   -7.427213309566251e-05\n",
      "     classification_error       0.3999999999999999\n",
      "             purity_index       0.6000000000000001\n",
      "                 fmeasure                      0.2\n",
      "                      nmi       0.5417349794948056\n",
      "                       vi       1.8364527976600276\n",
      "       geometric_accuracy        0.648074069840786\n",
      "          overlap_quality                     -0.0\n",
      "                     onmi       0.4732847457597933\n",
      "              omega_index    -0.025641025641025807\n"
     ]
    }
   ],
   "source": [
    "c1 = clusim.make_random_clustering(n_elements = 10, n_clusters = 2)\n",
    "c2 = clusim.make_random_clustering(n_elements = 10, n_clusters = 5)\n",
    "\n",
    "clusim.print_clustering(c1)\n",
    "clusim.print_clustering(c2)\n",
    "\n",
    "row_format2 =\"{:>25}\" * (2)\n",
    "for simfunc in clusim.available_similarity_measures:\n",
    "    print(row_format2.format(simfunc, eval('clusim.' + simfunc+'(c1, c2)')))"
   ]
  },
  {
   "cell_type": "code",
   "execution_count": null,
   "metadata": {},
   "outputs": [],
   "source": []
  }
 ],
 "metadata": {
  "kernelspec": {
   "display_name": "Python 3",
   "language": "python",
   "name": "python3"
  },
  "language_info": {
   "codemirror_mode": {
    "name": "ipython",
    "version": 3
   },
   "file_extension": ".py",
   "mimetype": "text/x-python",
   "name": "python",
   "nbconvert_exporter": "python",
   "pygments_lexer": "ipython3",
   "version": "3.6.4"
  }
 },
 "nbformat": 4,
 "nbformat_minor": 2
}
