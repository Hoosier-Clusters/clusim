{
 "cells": [
  {
   "cell_type": "code",
   "execution_count": 1,
   "metadata": {},
   "outputs": [],
   "source": [
    "import clusim.clugen as clugen\n",
    "import clusim.sim as sim\n",
    "from clusim.clustering import print_clustering"
   ]
  },
  {
   "cell_type": "code",
   "execution_count": 2,
   "metadata": {},
   "outputs": [
    {
     "name": "stdout",
     "output_type": "stream",
     "text": [
      "0|1|9237|4|56|8\n",
      "08|13456|2|7|9\n",
      "            jaccard_index     0.058823529411764705\n",
      "               rand_index       0.6444444444444445\n",
      "    fowlkes_mallows_index      0.11396057645963795\n",
      "    rogers_tanimoto_index      0.47540983606557374\n",
      "          southwood_index                   0.0625\n",
      "        czekanowski_index       0.1111111111111111\n",
      "               dice_index       0.1111111111111111\n",
      "           sorensen_index       0.1111111111111111\n",
      "      pearson_correlation   -0.0003216597643842226\n",
      "     classification_error       0.3999999999999999\n",
      "             purity_index       0.6000000000000001\n",
      "                 fmeasure       0.1111111111111111\n",
      "                      nmi       0.5421402215428222\n",
      "                       vi         1.96096404744368\n",
      "       geometric_accuracy        0.648074069840786\n",
      "          overlap_quality                     -0.0\n",
      "                     onmi      0.29565774310201665\n",
      "              omega_index     -0.09756097560975643\n"
     ]
    }
   ],
   "source": [
    "c1 = clugen.make_random_clustering(n_elements = 10, n_clusters = 2)\n",
    "c2 = clugen.make_random_clustering(n_elements = 10, n_clusters = 5)\n",
    "\n",
    "print_clustering(c1)\n",
    "print_clustering(c2)\n",
    "\n",
    "row_format2 =\"{:>25}\" * (2)\n",
    "for simfunc in sim.available_similarity_measures:\n",
    "    print(row_format2.format(simfunc, eval('sim.' + simfunc+'(c1, c2)')))"
   ]
  },
  {
   "cell_type": "code",
   "execution_count": null,
   "metadata": {},
   "outputs": [],
   "source": []
  }
 ],
 "metadata": {
  "kernelspec": {
   "display_name": "Python 3",
   "language": "python",
   "name": "python3"
  },
  "language_info": {
   "codemirror_mode": {
    "name": "ipython",
    "version": 3
   },
   "file_extension": ".py",
   "mimetype": "text/x-python",
   "name": "python",
   "nbconvert_exporter": "python",
   "pygments_lexer": "ipython3",
   "version": "3.7.7"
  }
 },
 "nbformat": 4,
 "nbformat_minor": 2
}
