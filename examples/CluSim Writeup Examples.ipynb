{
 "cells": [
  {
   "cell_type": "code",
   "execution_count": 1,
   "metadata": {},
   "outputs": [],
   "source": [
    "%load_ext autoreload\n",
    "%autoreload 2\n",
    "%matplotlib inline"
   ]
  },
  {
   "cell_type": "code",
   "execution_count": 2,
   "metadata": {},
   "outputs": [],
   "source": [
    "import numpy as np\n",
    "import os\n",
    "import csv\n",
    "import itertools\n",
    "\n",
    "from clusim.clustering import Clustering\n",
    "from clusim.dag import Dendrogram\n",
    "import clusim.sim as sim\n",
    "import clusim.clusimelement as elsim\n",
    "\n",
    "from sklearn.cluster import AgglomerativeClustering\n",
    "\n",
    "\n",
    "import matplotlib.pylab as plt\n",
    "import seaborn as sns\n",
    "sns.set_style('white')\n",
    "\n",
    "\n",
    "flatui = [\"#9b59b6\", \"#3498db\", \"#95a5a6\", \"#e74c3c\", \"#34495e\", \"#2ecc71\"]\n",
    "cmap = sns.color_palette(flatui)\n",
    "\n",
    "\n",
    "def GetHierCluster(data, membership, K = 4, metric = 'correlation', linkage_method = 'average'):\n",
    "    ac = AgglomerativeClustering(n_clusters=K, \n",
    "                                 affinity=metric, \n",
    "                                linkage=linkage_method)\n",
    "    return ac.fit_predict(data, membership)\n",
    "\n",
    "def format_func(value, tick_number, labels, mask):\n",
    "    if value in mask:\n",
    "        return \"%s\" % labels[value]\n",
    "    else:\n",
    "        return \"\""
   ]
  },
  {
   "cell_type": "markdown",
   "metadata": {},
   "source": [
    "## Example 1\n",
    "\n",
    "Evaluating clustering comparisons w.r.t. random models"
   ]
  },
  {
   "cell_type": "code",
   "execution_count": 3,
   "metadata": {},
   "outputs": [],
   "source": [
    "# Load the Gene Expression Data\n",
    "\n",
    "datafile = 'Data/risinger-2003_database.txt'\n",
    "\n",
    "with open(datafile, 'r') as gefile:\n",
    "    reader = csv.reader(gefile, delimiter=\"\\t\")\n",
    "    d = [list(r) for r in reader]\n",
    "\n",
    "membership = d[1]\n",
    "membership.pop(0)\n",
    "clusnames = {c:i for i, c in enumerate(set(membership))}\n",
    "membership = [clusnames[n] for n in membership]\n",
    "\n",
    "d = np.array(d[2:])\n",
    "genetitles = d[:,0]\n",
    "expressiondata = d[:,1:].astype(np.float)\n",
    "K = len(clusnames)\n",
    "\n",
    "ground_truth = Clustering()\n",
    "ground_truth.from_membership_list(membership)\n",
    "\n"
   ]
  },
  {
   "cell_type": "code",
   "execution_count": 4,
   "metadata": {},
   "outputs": [],
   "source": [
    "# find the Hierarchical Clustering\n",
    "hierclus = Clustering()\n",
    "hierclus.from_membership_list(GetHierCluster(expressiondata.T, membership, K))"
   ]
  },
  {
   "cell_type": "code",
   "execution_count": 5,
   "metadata": {},
   "outputs": [
    {
     "data": {
      "image/png": "[encoded data removed]",
      "text/plain": [
       "<Figure size 432x288 with 2 Axes>"
      ]
     },
     "metadata": {},
     "output_type": "display_data"
    }
   ],
   "source": [
    "\n",
    "Nsamples = [100, 100**2]\n",
    "model_list = ['perm', 'num1']\n",
    "true_value = sim.rand_index(hierclus, ground_truth)\n",
    "\n",
    "fig, ax = plt.subplots(2,1, sharex = True, figsize = (6, 4))\n",
    "bins = np.linspace(0.4, 0.7, 41)\n",
    "\n",
    "titles = ['Permutation Model', 'One-sided Fixed Number of Clusters']\n",
    "for iax in range(2):\n",
    "    pairwise_comparisons = sim.sample_expected_sim(hierclus, ground_truth, measure = 'rand_index', \n",
    "                                                       random_model = model_list[iax], \n",
    "                                                      nsamples = Nsamples[iax], keep_samples = True)\n",
    "    \n",
    "    rand_dist, bins = np.histogram(pairwise_comparisons, bins = bins)\n",
    "\n",
    "    ax[iax].bar(0.5*(bins[:-1] + bins[1:]), rand_dist, width = 0.95*np.abs(bins[:-1] - bins[1:]), alpha = 0.4)\n",
    "    \n",
    "    exp_value = sim.expected_rand_index(ground_truth.n_elements, random_model = model_list[iax], \n",
    "                                         n_clusters1 = hierclus.n_clusters, \n",
    "                                         n_clusters2 = ground_truth.n_clusters, \n",
    "                                         clus_size_seq1 = hierclus.clus_size_seq, \n",
    "                                         clus_size_seq2 = ground_truth.clus_size_seq)\n",
    "    \n",
    "    ax[iax].plot([exp_value,exp_value], [0, rand_dist.max()], c = 'k', ls = '--')\n",
    "    \n",
    "    ax[iax].plot([true_value,true_value], [0, rand_dist.max()], c = sns.color_palette()[3])\n",
    "    ax[iax].set_title(titles[iax], fontsize = 11)\n",
    "    ax[iax].set_ylabel('# of comparisons', fontsize = 10)\n",
    "    \n",
    "ax[1].set_xlabel('Rand Index', fontsize = 10)\n",
    "\n",
    "plt.tight_layout()\n",
    "plt.show()"
   ]
  },
  {
   "cell_type": "markdown",
   "metadata": {},
   "source": [
    "## Example 2\n",
    "\n",
    "Element-centric comparisons of phylogenetic dendrograms."
   ]
  },
  {
   "cell_type": "code",
   "execution_count": 6,
   "metadata": {},
   "outputs": [
    {
     "name": "stdout",
     "output_type": "stream",
     "text": [
      "424 gene trees loaded\n"
     ]
    }
   ],
   "source": [
    "# Load the Phylogenetic Trees\n",
    "\n",
    "datafile = 'Data/song_mammals.424.gene.tre'\n",
    "\n",
    "treestr_list = []\n",
    "with open(datafile, 'r') as infile:\n",
    "    for line in infile:\n",
    "        treestr_list.append(line.replace('\\n', ''))\n",
    "        \n",
    "Ngenetrees = len(treestr_list)\n",
    "print(\"%d gene trees loaded\" % Ngenetrees)\n",
    "\n",
    "taxon_namespace = Dendrogram().infer_namespace(treestr_list[0])\n",
    "clus2elm_dict = {str(n).replace(\"'\",'').replace(\"_\",' '):[str(n).replace(\"'\",'').replace(\"_\",\" \")] for n in taxon_namespace}"
   ]
  },
  {
   "cell_type": "code",
   "execution_count": 7,
   "metadata": {},
   "outputs": [
    {
     "name": "stdout",
     "output_type": "stream",
     "text": [
      "0\n",
      "1\n",
      "2\n",
      "3\n",
      "4\n",
      "5\n",
      "6\n",
      "7\n",
      "8\n",
      "9\n",
      "10\n",
      "11\n",
      "12\n",
      "13\n",
      "14\n",
      "15\n",
      "16\n",
      "17\n",
      "18\n",
      "19\n",
      "20\n",
      "21\n",
      "22\n",
      "23\n",
      "24\n",
      "25\n",
      "26\n",
      "27\n",
      "28\n",
      "29\n",
      "30\n",
      "31\n",
      "32\n",
      "33\n",
      "34\n",
      "35\n",
      "36\n",
      "37\n",
      "38\n",
      "39\n"
     ]
    }
   ],
   "source": [
    "# Compute the element-centric affinity matrices for different values of the scaling parameter\n",
    "\n",
    "Nr = 40\n",
    "rs = np.arange(-10, Nr -10)\n",
    "alpha = 0.9\n",
    "meanelsim = np.zeros((Nr,37))\n",
    "\n",
    "for ir in range(Nr):\n",
    "    print(ir,)\n",
    "    afmat = []\n",
    "    for itree in range(Ngenetrees):\n",
    "        d = Dendrogram()\n",
    "        d.from_newick(treestr_list[itree])\n",
    "        d.norm_linkage()\n",
    "        hc = Clustering(clus2elm_dict = clus2elm_dict, hier_graph = d)\n",
    "        am = elsim.make_affinity_matrix(hc, alpha = alpha, r = rs[ir], \n",
    "                                         rescale_path_type = 'linkage', \n",
    "                                         relabeled_elements = None)\n",
    "        afmat.append(am)\n",
    "    \n",
    "    num_comparisons = 0\n",
    "    for itree, jtree in itertools.combinations(range(Ngenetrees), 2):\n",
    "        meanelsim[ir] += elsim.cL1(afmat[itree], afmat[jtree], alpha = alpha)\n",
    "        num_comparisons+= 1\n",
    "    \n",
    "    meanelsim[ir] = meanelsim[ir]/float(num_comparisons)"
   ]
  },
  {
   "cell_type": "code",
   "execution_count": 8,
   "metadata": {},
   "outputs": [
    {
     "data": {
      "image/png": "[encoded data removed]",
      "text/plain": [
       "<Figure size 432x432 with 1 Axes>"
      ]
     },
     "metadata": {},
     "output_type": "display_data"
    }
   ],
   "source": [
    "# Subfigure b\n",
    "# The mean element-centric similarity between 424-gene trees reveals \n",
    "# few conflicts near the roots (left, r < 0), while decreasing similarity for increasing r \n",
    "# suggests greater conflicts towards the leaves (left, r > 0).\n",
    "\n",
    "fig, ax = plt.subplots(1,1,figsize = (6,6))\n",
    "\n",
    "ax.plot(rs, meanelsim.mean(axis = 1))\n",
    "\n",
    "ax.set_xlabel('scaling parameter, r')\n",
    "ax.set_xticks([-10,0,10,20,30])\n",
    "ax.set_ylabel('element-centric similarity', labelpad = 0.4)\n",
    "\n",
    "\n",
    "plt.show()"
   ]
  },
  {
   "cell_type": "code",
   "execution_count": 9,
   "metadata": {},
   "outputs": [
    {
     "data": {
      "image/png": "[encoded data removed]",
      "text/plain": [
       "<Figure size 432x432 with 1 Axes>"
      ]
     },
     "metadata": {},
     "output_type": "display_data"
    }
   ],
   "source": [
    "# subfigure c\n",
    "# The element-centric frustration highlights 5 taxa previously identified with structural \n",
    "# discrepancies (bats, shrews, and hedgehog, blue, Mirarab et al., 2014), and the 3 taxa with \n",
    "# the smallest bootstrapping support in the maximum-pseudolikelihood coalescent tree (pig, \n",
    "# guinea pig, kangaroo rat, purple, Song et al., 2012)\n",
    "\n",
    "\n",
    "fig, ax = plt.subplots(1,1,figsize = (6,6))\n",
    "\n",
    "sample_elsim = meanelsim[29]\n",
    "\n",
    "ax.bar(np.arange(len(sample_elsim)), sample_elsim, color = cmap[4])\n",
    "\n",
    "songmask = [i for i,e in enumerate(sorted(hc.elements)) if 'Shrew' in e or 'bat' in e or ('Hedgehog' in e and not 'Less' in e)]\n",
    "ax.bar(np.arange(len(sample_elsim))[songmask], sample_elsim[songmask], color = cmap[1])\n",
    "\n",
    "mask2 = [i for i,e in enumerate(sorted(hc.elements)) if sample_elsim[i] < 0.68 and not i in songmask]\n",
    "ax.bar(np.arange(len(sample_elsim))[mask2], sample_elsim[mask2], color = cmap[0])\n",
    "\n",
    "\n",
    "ax.set_ylim([0.0, 1.0])\n",
    "ax.set_ylabel('element-centric frustration', labelpad = 0.35)\n",
    "labels = elsim.relabel_objects(hc.elements)\n",
    "elidx = {i:e for e,i in labels.items()}\n",
    "\n",
    "completemask = songmask + mask2\n",
    "\n",
    "ax.set_xticks(range(len(sample_elsim)))\n",
    "ax.set_xticklabels([elidx[i] for i in range(len(sample_elsim))], rotation = 90, ha = 'center', fontsize = 12)\n",
    "ax.xaxis.set_major_formatter(plt.FuncFormatter(lambda value, tick_number: format_func(value, tick_number, elidx, completemask)))\n",
    "\n",
    "plt.show()\n"
   ]
  },
  {
   "cell_type": "code",
   "execution_count": null,
   "metadata": {},
   "outputs": [],
   "source": []
  }
 ],
 "metadata": {
  "kernelspec": {
   "display_name": "Python 3",
   "language": "python",
   "name": "python3"
  },
  "language_info": {
   "codemirror_mode": {
    "name": "ipython",
    "version": 3
   },
   "file_extension": ".py",
   "mimetype": "text/x-python",
   "name": "python",
   "nbconvert_exporter": "python",
   "pygments_lexer": "ipython3",
   "version": "3.6.5"
  }
 },
 "nbformat": 4,
 "nbformat_minor": 2
}
