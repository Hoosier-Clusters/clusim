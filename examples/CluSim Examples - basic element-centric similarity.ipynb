{
 "cells": [
  {
   "cell_type": "code",
   "execution_count": 1,
   "metadata": {},
   "outputs": [],
   "source": [
    "from clusim.clustering import Clustering, print_clustering\n",
    "import clusim.sim as sim"
   ]
  },
  {
   "cell_type": "code",
   "execution_count": 6,
   "metadata": {},
   "outputs": [
    {
     "name": "stdout",
     "output_type": "stream",
     "text": [
      "01|23|45\n",
      "0|123|45\n",
      "Element-centric Similarity: 0.6944444444444443\n",
      "Element-centric Similarity for each element:\n",
      "[0.5        0.33333333 0.66666667 0.66666667 1.         1.        ]\n",
      "[0.5        0.33333333 0.66666667 0.66666667 1.         1.        ] {0: 0, 1: 1, 2: 2, 3: 3, 4: 4, 5: 5}\n",
      "\n",
      "012|23|45\n",
      "Element-centric Similarity: 0.7017543859649121\n",
      "Element-centric Similarity for each element:\n",
      "[0.45614035 0.45614035 0.61403509 0.68421053 1.         1.        ]\n"
     ]
    }
   ],
   "source": [
    "# Element-centeric Clustering Similarity\n",
    "\n",
    "# first consider the case of two partitions (no overlap or hierarchy)\n",
    "clustering1 = Clustering(elm2clu_dict = {0:[0], 1:[0], 2:[1], 3:[1], 4:[2], 5:[2]})\n",
    "clustering2 = Clustering(elm2clu_dict = {0:[0], 1:[1], 2:[1], 3:[1], 4:[2], 5:[2]})\n",
    "\n",
    "print_clustering(clustering1)\n",
    "print_clustering(clustering2)\n",
    "print(\"Element-centric Similarity:\", sim.element_sim(clustering1, clustering2, alpha = 0.9) )\n",
    "print(\"Element-centric Similarity for each element:\")\n",
    "elementScores, relabeled_elements = sim.element_sim_elscore(clustering1, clustering2, alpha = 0.9) \n",
    "print(elementScores)\n",
    "print(elementScores, relabeled_elements)\n",
    "print()\n",
    "# now lets conisder an example with overlap\n",
    "clustering3 = Clustering(elm2clu_dict = {0:[0], 1:[0], 2:[0,1], 3:[1], 4:[2], 5:[2]})\n",
    "print_clustering(clustering3)\n",
    "print(\"Element-centric Similarity:\", sim.element_sim(clustering1, clustering3, alpha = 0.9))\n",
    "print(\"Element-centric Similarity for each element:\")\n",
    "elementScores, relabeled_elements = sim.element_sim_elscore(clustering1, clustering3, alpha = 0.9)\n",
    "print(elementScores)"
   ]
  },
  {
   "cell_type": "code",
   "execution_count": null,
   "metadata": {},
   "outputs": [],
   "source": []
  }
 ],
 "metadata": {
  "kernelspec": {
   "display_name": "Python 3 (ipykernel)",
   "language": "python",
   "name": "python3"
  },
  "language_info": {
   "codemirror_mode": {
    "name": "ipython",
    "version": 3
   },
   "file_extension": ".py",
   "mimetype": "text/x-python",
   "name": "python",
   "nbconvert_exporter": "python",
   "pygments_lexer": "ipython3",
   "version": "3.10.12"
  }
 },
 "nbformat": 4,
 "nbformat_minor": 2
}
