{
 "cells": [
  {
   "cell_type": "code",
   "execution_count": 1,
   "metadata": {},
   "outputs": [],
   "source": [
    "from clusim.clustering import Clustering\n",
    "import clusim.clusimelement as clusimelement\n",
    "from clusim.plotutils import print_clustering"
   ]
  },
  {
   "cell_type": "code",
   "execution_count": 2,
   "metadata": {},
   "outputs": [
    {
     "name": "stdout",
     "output_type": "stream",
     "text": [
      "01|23|45\n",
      "0|1234|5\n",
      "Element-centric Similarity: 0.4166666666666667\n",
      "Element-centric Similarity for each element:\n",
      "[0.5  0.25 0.5  0.5  0.25 0.5 ]\n",
      "\n",
      "012|23|45\n",
      "Element-centric Similarity: 0.7017543859649121\n",
      "Element-centric Similarity for each element:\n",
      "[0.45614035 0.45614035 0.61403509 0.68421053 1.         1.        ]\n"
     ]
    }
   ],
   "source": [
    "# Element-centeric Clustering Similarity\n",
    "\n",
    "# first consider the case of two partitions (no overlap or hierarchy)\n",
    "clustering1 = Clustering(elm2clu_dict = {0:[0], 1:[0], 2:[1], 3:[1], 4:[2], 5:[2]})\n",
    "clustering2 = Clustering(elm2clu_dict = {0:[0], 1:[1], 2:[1], 3:[1], 4:[1], 5:[2]})\n",
    "\n",
    "print_clustering(clustering1)\n",
    "print_clustering(clustering2)\n",
    "print(\"Element-centric Similarity:\", clusimelement.element_sim(clustering1, clustering2, alpha = 0.9) )\n",
    "print(\"Element-centric Similarity for each element:\")\n",
    "elementScores, relabeled_elements = clusimelement.element_sim_elscore(clustering1, clustering2, alpha = 0.9) \n",
    "print(elementScores)\n",
    "\n",
    "print()\n",
    "# now lets conisder an example with overlap\n",
    "clustering3 = Clustering(elm2clu_dict = {0:[0], 1:[0], 2:[0,1], 3:[1], 4:[2], 5:[2]})\n",
    "print_clustering(clustering3)\n",
    "print(\"Element-centric Similarity:\", clusimelement.element_sim(clustering1, clustering3, alpha = 0.9))\n",
    "print(\"Element-centric Similarity for each element:\")\n",
    "elementScores, relabeled_elements = clusimelement.element_sim_elscore(clustering1, clustering3, alpha = 0.9)\n",
    "print(elementScores)"
   ]
  },
  {
   "cell_type": "code",
   "execution_count": null,
   "metadata": {},
   "outputs": [],
   "source": []
  }
 ],
 "metadata": {
  "kernelspec": {
   "display_name": "Python 3",
   "language": "python",
   "name": "python3"
  },
  "language_info": {
   "codemirror_mode": {
    "name": "ipython",
    "version": 3
   },
   "file_extension": ".py",
   "mimetype": "text/x-python",
   "name": "python",
   "nbconvert_exporter": "python",
   "pygments_lexer": "ipython3",
   "version": "3.6.4"
  }
 },
 "nbformat": 4,
 "nbformat_minor": 2
}
