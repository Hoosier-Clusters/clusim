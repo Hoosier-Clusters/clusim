{
 "cells": [
  {
   "cell_type": "code",
   "execution_count": 1,
   "metadata": {},
   "outputs": [],
   "source": [
    "import clusim"
   ]
  },
  {
   "cell_type": "code",
   "execution_count": 2,
   "metadata": {},
   "outputs": [
    {
     "name": "stdout",
     "output_type": "stream",
     "text": [
      "0957|8136|2|4\n",
      "0823|1456|97\n",
      "                     perm      -0.0287948572417585\n",
      "                    perm1      -0.0287948572417585\n",
      "                      num      -0.0454538573934813\n",
      "                     num1      -0.0641696464339714\n",
      "                      all       -0.616464418369149\n",
      "                     all1       -0.207588962607822\n"
     ]
    }
   ],
   "source": [
    "# Adjusted Mutual Information for different random models\n",
    "c1 = clusim.make_random_clustering(n_elements = 10, n_clusters = 2)\n",
    "c2 = clusim.make_random_clustering(n_elements = 10, n_clusters = 5)\n",
    "\n",
    "clusim.print_clustering(c1)\n",
    "clusim.print_clustering(c2)\n",
    "\n",
    "row_format2 =\"{:>25}\" * (2)\n",
    "for rdm in clusim.available_random_models:\n",
    "    print(row_format2.format(rdm, str(clusim.adj_mi(c1, c2, random_model = rdm))))"
   ]
  },
  {
   "cell_type": "code",
   "execution_count": 3,
   "metadata": {},
   "outputs": [
    {
     "name": "stdout",
     "output_type": "stream",
     "text": [
      "0567|1|824|93\n",
      "0129|3|84|56|7\n",
      "                      sum       0.5273903491091385\n",
      "                      max      0.49315495053406294\n",
      "                      min       0.5667336691514566\n",
      "                     sqrt       0.5286657872194631\n"
     ]
    }
   ],
   "source": [
    "# Normalized Mutual Information with different normalizations\n",
    "c1 = clusim.make_random_clustering(n_elements = 10, n_clusters = 2)\n",
    "c2 = clusim.make_random_clustering(n_elements = 10, n_clusters = 5)\n",
    "\n",
    "clusim.print_clustering(c1)\n",
    "clusim.print_clustering(c2)\n",
    "\n",
    "row_format2 =\"{:>25}\" * (2)\n",
    "for nt in ['sum', 'max', 'min', 'sqrt']:\n",
    "    print(row_format2.format(nt, str(clusim.nmi(c1, c2, norm_type = nt))))"
   ]
  },
  {
   "cell_type": "code",
   "execution_count": null,
   "metadata": {},
   "outputs": [],
   "source": []
  }
 ],
 "metadata": {
  "kernelspec": {
   "display_name": "Python 3",
   "language": "python",
   "name": "python3"
  },
  "language_info": {
   "codemirror_mode": {
    "name": "ipython",
    "version": 3
   },
   "file_extension": ".py",
   "mimetype": "text/x-python",
   "name": "python",
   "nbconvert_exporter": "python",
   "pygments_lexer": "ipython3",
   "version": "3.6.4"
  }
 },
 "nbformat": 4,
 "nbformat_minor": 2
}
