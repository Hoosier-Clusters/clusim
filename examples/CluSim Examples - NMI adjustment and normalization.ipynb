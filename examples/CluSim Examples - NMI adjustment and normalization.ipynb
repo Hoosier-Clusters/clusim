{
 "cells": [
  {
   "cell_type": "code",
   "execution_count": 1,
   "metadata": {},
   "outputs": [],
   "source": [
    "import clusim.sim as sim\n",
    "import clusim.clugen as clugen\n",
    "from clusim.clustering import print_clustering"
   ]
  },
  {
   "cell_type": "code",
   "execution_count": 2,
   "metadata": {},
   "outputs": [
    {
     "name": "stdout",
     "output_type": "stream",
     "text": [
      "0125|37|84|96\n",
      "012|9357|84|6\n",
      "                      sum       0.7015919313018382\n",
      "                      max       0.6878135027027825\n",
      "                      min        0.715933669146816\n",
      "                     sqrt       0.7017327444823468\n"
     ]
    }
   ],
   "source": [
    "# Adjusted Mutual Information for different random models\\n\",\n",
    "c1 = clugen.make_random_clustering(n_elements = 10, n_clusters = 2)\n",
    "c2 = clugen.make_random_clustering(n_elements = 10, n_clusters = 5)\n",
    "\n",
    "print_clustering(c1)\n",
    "print_clustering(c2)\n",
    "\n",
    "row_format2 = \"{:>25}\"*2\n",
    "for ntype in ['sum', 'max', 'min', 'sqrt']:\n",
    "    print(row_format2.format(ntype, str(sim.nmi(c1, c2, norm_type = ntype))))"
   ]
  },
  {
   "cell_type": "code",
   "execution_count": 3,
   "metadata": {},
   "outputs": [
    {
     "name": "stdout",
     "output_type": "stream",
     "text": [
      "02378|156|94\n",
      "026|19|34|57|8\n",
      "                     perm       -0.148000236069058\n",
      "                    perm1       -0.148000236069058\n",
      "                      num      -0.0997416150535352\n",
      "                     num1       -0.120532494782882\n",
      "                      all       -0.241995583076721\n",
      "                     all1       -0.295381261557531\n"
     ]
    }
   ],
   "source": [
    "# Adjusted Mutual Information for different random models\\n\",\n",
    "c1 = clugen.make_random_clustering(n_elements = 10, n_clusters = 2)\n",
    "c2 = clugen.make_random_clustering(n_elements = 10, n_clusters = 5)\n",
    "\n",
    "print_clustering(c1)\n",
    "print_clustering(c2)\n",
    "\n",
    "row_format2 = \"{:>25}\"*2\n",
    "for rdm in sim.available_random_models:\n",
    "    print(row_format2.format(rdm, str(sim.adj_mi(c1, c2, random_model = rdm))))"
   ]
  },
  {
   "cell_type": "code",
   "execution_count": null,
   "metadata": {},
   "outputs": [],
   "source": []
  }
 ],
 "metadata": {
  "kernelspec": {
   "display_name": "Python 3",
   "language": "python",
   "name": "python3"
  },
  "language_info": {
   "codemirror_mode": {
    "name": "ipython",
    "version": 3
   },
   "file_extension": ".py",
   "mimetype": "text/x-python",
   "name": "python",
   "nbconvert_exporter": "python",
   "pygments_lexer": "ipython3",
   "version": "3.7.0"
  }
 },
 "nbformat": 4,
 "nbformat_minor": 2
}
