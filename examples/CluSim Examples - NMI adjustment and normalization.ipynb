{
 "cells": [
  {
   "cell_type": "code",
   "execution_count": 1,
   "metadata": {},
   "outputs": [],
   "source": [
    "import clusim.clugen as clugen\n",
    "import clusim.sim as sim\n",
    "from clusim.plotutils import print_clustering"
   ]
  },
  {
   "cell_type": "code",
   "execution_count": 2,
   "metadata": {},
   "outputs": [
    {
     "name": "stdout",
     "output_type": "stream",
     "text": [
      "0|12|83|94|56|7\n",
      "03|1|827|45|96\n",
      "                     perm       -0.106666666666668\n",
      "                    perm1       -0.106666666666668\n",
      "                      num      0.00823077853950638\n",
      "                     num1       -0.050506245409693\n",
      "                      all        0.308046831414504\n",
      "                     all1        0.218058245064108\n"
     ]
    }
   ],
   "source": [
    "# Adjusted Mutual Information for different random models\n",
    "c1 = clugen.make_random_clustering(n_elements = 10, n_clusters = 2)\n",
    "c2 = clugen.make_random_clustering(n_elements = 10, n_clusters = 5)\n",
    "\n",
    "print_clustering(c1)\n",
    "print_clustering(c2)\n",
    "\n",
    "row_format2 =\"{:>25}\" * (2)\n",
    "for rdm in sim.available_random_models:\n",
    "    print(row_format2.format(rdm, str(sim.adj_mi(c1, c2, random_model = rdm))))"
   ]
  },
  {
   "cell_type": "code",
   "execution_count": 3,
   "metadata": {},
   "outputs": [
    {
     "name": "stdout",
     "output_type": "stream",
     "text": [
      "0|169|825|3|47\n",
      "057|12346|8|9\n",
      "                      sum       0.3809215151152747\n",
      "                      max      0.33833003785106563\n",
      "                      min      0.43578081387660556\n",
      "                     sqrt       0.3839762222503369\n"
     ]
    }
   ],
   "source": [
    "# Normalized Mutual Information with different normalizations\n",
    "c1 = clugen.make_random_clustering(n_elements = 10, n_clusters = 2)\n",
    "c2 = clugen.make_random_clustering(n_elements = 10, n_clusters = 5)\n",
    "\n",
    "print_clustering(c1)\n",
    "print_clustering(c2)\n",
    "\n",
    "row_format2 =\"{:>25}\" * (2)\n",
    "for nt in ['sum', 'max', 'min', 'sqrt']:\n",
    "    print(row_format2.format(nt, str(sim.nmi(c1, c2, norm_type = nt))))"
   ]
  },
  {
   "cell_type": "code",
   "execution_count": null,
   "metadata": {},
   "outputs": [],
   "source": []
  }
 ],
 "metadata": {
  "kernelspec": {
   "display_name": "Python 3",
   "language": "python",
   "name": "python3"
  },
  "language_info": {
   "codemirror_mode": {
    "name": "ipython",
    "version": 3
   },
   "file_extension": ".py",
   "mimetype": "text/x-python",
   "name": "python",
   "nbconvert_exporter": "python",
   "pygments_lexer": "ipython3",
   "version": "3.6.4"
  }
 },
 "nbformat": 4,
 "nbformat_minor": 2
}
