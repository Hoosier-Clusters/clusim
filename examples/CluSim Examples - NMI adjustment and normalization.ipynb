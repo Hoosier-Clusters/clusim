{
 "cells": [
  {
   "cell_type": "code",
   "execution_count": 1,
   "metadata": {},
   "outputs": [],
   "source": [
    "import clusim.sim as sim\n",
    "import clusim.clugen as clugen\n",
    "from clusim.plotutils import print_clustering"
   ]
  },
  {
   "cell_type": "code",
   "execution_count": 2,
   "metadata": {},
   "outputs": [
    {
     "name": "stdout",
     "output_type": "stream",
     "text": [
      "024|1|35|67|8|9\n",
      "0|8147|9235|6\n",
      "                     perm      -0.0583659166810904\n",
      "                    perm1      -0.0583659166810904\n",
      "                      num       -0.137023429873604\n",
      "                     num1      -0.0551174358444899\n",
      "                      all      -0.0919531685854968\n",
      "                     all1        0.153390491530218\n"
     ]
    }
   ],
   "source": [
    "# Adjusted Mutual Information for different random models\n",
    "c1 = clugen.make_random_clustering(n_elements = 10, n_clusters = 2)\n",
    "c2 = clugen.make_random_clustering(n_elements = 10, n_clusters = 5)\n",
    "\n",
    "print_clustering(c1)\n",
    "print_clustering(c2)\n",
    "\n",
    "row_format2 =\"{:>25}\" * (2)\n",
    "for rdm in sim.available_random_models:\n",
    "    print(row_format2.format(rdm, str(sim.adj_mi(c1, c2, random_model = rdm))))"
   ]
  },
  {
   "cell_type": "code",
   "execution_count": 3,
   "metadata": {},
   "outputs": [
    {
     "name": "stdout",
     "output_type": "stream",
     "text": [
      "037|14|892|5|6\n",
      "02|1359|4|86|7\n",
      "                      sum      0.45235407972988245\n",
      "                      max       0.4472467484680676\n",
      "                      min      0.45757940469052977\n",
      "                     sqrt       0.4523835771928436\n"
     ]
    }
   ],
   "source": [
    "# Normalized Mutual Information with different normalizations\n",
    "c1 = clugen.make_random_clustering(n_elements = 10, n_clusters = 2)\n",
    "c2 = clugen.make_random_clustering(n_elements = 10, n_clusters = 5)\n",
    "\n",
    "print_clustering(c1)\n",
    "print_clustering(c2)\n",
    "\n",
    "row_format2 =\"{:>25}\" * (2)\n",
    "for nt in ['sum', 'max', 'min', 'sqrt']:\n",
    "    print(row_format2.format(nt, str(sim.nmi(c1, c2, norm_type = nt))))"
   ]
  },
  {
   "cell_type": "code",
   "execution_count": null,
   "metadata": {},
   "outputs": [],
   "source": []
  }
 ],
 "metadata": {
  "kernelspec": {
   "display_name": "Python 3",
   "language": "python",
   "name": "python3"
  },
  "language_info": {
   "codemirror_mode": {
    "name": "ipython",
    "version": 3
   },
   "file_extension": ".py",
   "mimetype": "text/x-python",
   "name": "python",
   "nbconvert_exporter": "python",
   "pygments_lexer": "ipython3",
   "version": "3.7.0"
  }
 },
 "nbformat": 4,
 "nbformat_minor": 2
}
