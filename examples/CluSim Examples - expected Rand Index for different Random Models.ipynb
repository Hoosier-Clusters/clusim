{
 "cells": [
  {
   "cell_type": "code",
   "execution_count": 1,
   "metadata": {},
   "outputs": [],
   "source": [
    "from clusim.clustering import Clustering, print_clustering\n",
    "import clusim.clugen as clugen\n",
    "import clusim.sim as sim\n",
    "\n",
    "import numpy as np\n",
    "import matplotlib.pylab as plt\n",
    "try:\n",
    "    import seaborn as sns\n",
    "    sns.set_style('white')\n",
    "except ImportError:\n",
    "    print(\"Using basic matplotlib formating.\")"
   ]
  },
  {
   "cell_type": "code",
   "execution_count": 2,
   "metadata": {},
   "outputs": [
    {
     "name": "stdout",
     "output_type": "stream",
     "text": [
      "0|12489|357|6\n",
      "08|16|92|37|4|5\n",
      "                     perm      0.11497730711043863\n",
      "                    perm1      0.11497730711043863\n",
      "                      num     0.006995906522757492\n",
      "                     num1     -0.04589417565049187\n",
      "                      all      0.03117742728867589\n",
      "                     all1     -0.20968291933414504\n"
     ]
    }
   ],
   "source": [
    "# Adjusted Rand Index\n",
    "\n",
    "c1 = clugen.make_random_clustering(n_elements = 10, n_clusters = 2)\n",
    "c2 = clugen.make_random_clustering(n_elements = 10, n_clusters = 5)\n",
    "\n",
    "print_clustering(c1)\n",
    "print_clustering(c2)\n",
    "\n",
    "row_format2 =\"{:>25}\" * (2)\n",
    "for rdm in sim.available_random_models:\n",
    "    print(row_format2.format(rdm, str(sim.adjrand_index(c1, c2, random_model = rdm))))"
   ]
  },
  {
   "cell_type": "code",
   "execution_count": 6,
   "metadata": {},
   "outputs": [
    {
     "ename": "NameError",
     "evalue": "name 'nsamples' is not defined",
     "output_type": "error",
     "traceback": [
      "\u001b[0;31m---------------------------------------------------------------------------\u001b[0m",
      "\u001b[0;31mNameError\u001b[0m                                 Traceback (most recent call last)",
      "\u001b[0;32m<ipython-input-6-2f385cd6338f>\u001b[0m in \u001b[0;36m<module>\u001b[0;34m()\u001b[0m\n\u001b[1;32m     18\u001b[0m     pairwise_comparisons = sim.sample_expected_sim(detected_clustering, ground_truth, measure = 'rand_index', \n\u001b[1;32m     19\u001b[0m                                                        \u001b[0mrandom_model\u001b[0m \u001b[0;34m=\u001b[0m \u001b[0mmodel_list\u001b[0m\u001b[0;34m[\u001b[0m\u001b[0miax\u001b[0m\u001b[0;34m]\u001b[0m\u001b[0;34m,\u001b[0m\u001b[0;34m\u001b[0m\u001b[0m\n\u001b[0;32m---> 20\u001b[0;31m                                                       n_samples = Nsamples[iax], keep_samples = True)\n\u001b[0m\u001b[1;32m     21\u001b[0m \u001b[0;34m\u001b[0m\u001b[0m\n\u001b[1;32m     22\u001b[0m     \u001b[0mrand_dist\u001b[0m\u001b[0;34m,\u001b[0m \u001b[0mbins\u001b[0m \u001b[0;34m=\u001b[0m \u001b[0mnp\u001b[0m\u001b[0;34m.\u001b[0m\u001b[0mhistogram\u001b[0m\u001b[0;34m(\u001b[0m\u001b[0mpairwise_comparisons\u001b[0m\u001b[0;34m,\u001b[0m \u001b[0mbins\u001b[0m \u001b[0;34m=\u001b[0m \u001b[0mbins\u001b[0m\u001b[0;34m)\u001b[0m\u001b[0;34m\u001b[0m\u001b[0m\n",
      "\u001b[0;32m~/Documents/clusim/clusim/sim.py\u001b[0m in \u001b[0;36msample_expected_sim\u001b[0;34m(clustering1, clustering2, measure, random_model, n_samples, keep_samples)\u001b[0m\n\u001b[1;32m    817\u001b[0m         \u001b[0mn_elements\u001b[0m\u001b[0;34m=\u001b[0m\u001b[0mclustering1\u001b[0m\u001b[0;34m.\u001b[0m\u001b[0mn_elements\u001b[0m\u001b[0;34m,\u001b[0m \u001b[0mn_clusters\u001b[0m\u001b[0;34m=\u001b[0m\u001b[0mclustering1\u001b[0m\u001b[0;34m.\u001b[0m\u001b[0mn_clusters\u001b[0m\u001b[0;34m,\u001b[0m\u001b[0;34m\u001b[0m\u001b[0m\n\u001b[1;32m    818\u001b[0m         \u001b[0mclu_size_seq\u001b[0m\u001b[0;34m=\u001b[0m\u001b[0mclustering1\u001b[0m\u001b[0;34m.\u001b[0m\u001b[0mclu_size_seq\u001b[0m\u001b[0;34m,\u001b[0m \u001b[0mrandom_model\u001b[0m\u001b[0;34m=\u001b[0m\u001b[0mrandom_model\u001b[0m\u001b[0;34m,\u001b[0m\u001b[0;34m\u001b[0m\u001b[0m\n\u001b[0;32m--> 819\u001b[0;31m         tol=1.0e-15) for isample in range(n_samples)]\n\u001b[0m\u001b[1;32m    820\u001b[0m \u001b[0;34m\u001b[0m\u001b[0m\n\u001b[1;32m    821\u001b[0m     \u001b[0;32mif\u001b[0m \u001b[0;34m'1'\u001b[0m \u001b[0;32min\u001b[0m \u001b[0mrandom_model\u001b[0m\u001b[0;34m:\u001b[0m\u001b[0;34m\u001b[0m\u001b[0m\n",
      "\u001b[0;31mNameError\u001b[0m: name 'nsamples' is not defined"
     ]
    },
    {
     "data": {
      "image/png": "[encoded data removed]",
      "text/plain": [
       "<Figure size 576x576 with 2 Axes>"
      ]
     },
     "metadata": {},
     "output_type": "display_data"
    }
   ],
   "source": [
    "# An example sampling from a random distrubtion of clusterings\n",
    "\n",
    "ground_truth = Clustering()\n",
    "ground_truth.from_membership_list([1, 1, 1, 1, 1, 1, 1, 1, 1, 1, 1, 1, 1, 3, 3, 3, 2, 2, 2, 2, 2, 2, 2, 2, 2, 2, 2, 2, 2, 2, 2, 2, 2, 2, 2, 0, 0, 0, 0, 0, 0, 0])\n",
    "\n",
    "detected_clustering = Clustering()\n",
    "detected_clustering.from_membership_list([1, 1, 1, 1, 1, 1, 1, 1, 1, 1, 1, 1, 1, 1, 1, 1, 1, 3, 3, 1, 1, 0, 1, 1, 1, 1, 1, 1, 1, 1, 1, 1, 1, 1, 1, 1, 0, 2, 3, 3, 2, 1])\n",
    "\n",
    "Nsamples = [100, int(100*99/2)]\n",
    "model_list = ['perm', 'num1']\n",
    "true_value = sim.rand_index(detected_clustering, ground_truth)\n",
    "\n",
    "fig, ax = plt.subplots(2,1, sharex = True, figsize = (8,8), gridspec_kw={'hspace':0.4})\n",
    "bins = np.linspace(0.4, 0.7, 41)\n",
    "\n",
    "titles = ['Permutation Model', 'One-sided Fixed Number of Clusters']\n",
    "for iax in range(2):\n",
    "    pairwise_comparisons = sim.sample_expected_sim(detected_clustering, ground_truth, measure = 'rand_index', \n",
    "                                                       random_model = model_list[iax], \n",
    "                                                      n_samples = Nsamples[iax], keep_samples = True)\n",
    "\n",
    "    rand_dist, bins = np.histogram(pairwise_comparisons, bins = bins)\n",
    "\n",
    "    ax[iax].bar(0.5*(bins[:-1] + bins[1:]), rand_dist, width = 0.95*np.abs(bins[:-1] - bins[1:]), alpha = 0.4)\n",
    "    \n",
    "    exp_value = sim.expected_rand_index(ground_truth.n_elements, random_model = model_list[iax], \n",
    "                                         n_clusters1 = detected_clustering.n_clusters, \n",
    "                                         n_clusters2 = ground_truth.n_clusters, \n",
    "                                         clu_size_seq1 = detected_clustering.clu_size_seq, \n",
    "                                         clu_size_seq2 = ground_truth.clu_size_seq)\n",
    "    \n",
    "    ax[iax].plot([exp_value,exp_value], [0, rand_dist.max()], c = 'k', ls = '--')\n",
    "\n",
    "    ax[iax].plot([true_value,true_value], [0, rand_dist.max()], c = sns.color_palette()[3])\n",
    "    ax[iax].set_title(titles[iax])\n",
    "    \n",
    "ax[1].set_xlabel('Rand Index')\n",
    "plt.show()"
   ]
  },
  {
   "cell_type": "code",
   "execution_count": null,
   "metadata": {},
   "outputs": [],
   "source": []
  }
 ],
 "metadata": {
  "kernelspec": {
   "display_name": "Python 3",
   "language": "python",
   "name": "python3"
  },
  "language_info": {
   "codemirror_mode": {
    "name": "ipython",
    "version": 3
   },
   "file_extension": ".py",
   "mimetype": "text/x-python",
   "name": "python",
   "nbconvert_exporter": "python",
   "pygments_lexer": "ipython3",
   "version": "3.7.0"
  }
 },
 "nbformat": 4,
 "nbformat_minor": 2
}
