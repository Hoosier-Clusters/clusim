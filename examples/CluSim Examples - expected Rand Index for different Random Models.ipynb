{
 "cells": [
  {
   "cell_type": "code",
   "execution_count": 1,
   "metadata": {},
   "outputs": [],
   "source": [
    "import clusim.clugen as clugen\n",
    "from clusim.clustering import Clustering\n",
    "import clusim.sim as sim\n",
    "from clusim.plotutils import print_clustering\n",
    "\n",
    "import numpy as np\n",
    "import matplotlib.pylab as plt\n",
    "try:\n",
    "    import seaborn as sns\n",
    "    sns.set_style('white')\n",
    "except ImportError:\n",
    "    print(\"Using basic matplotlib formating.\")"
   ]
  },
  {
   "cell_type": "code",
   "execution_count": 2,
   "metadata": {},
   "outputs": [
    {
     "name": "stdout",
     "output_type": "stream",
     "text": [
      "018|2|9346|57\n",
      "04|816|23|5|7|9\n",
      "                     perm    -0.017391304347826247\n",
      "                    perm1    -0.017391304347826247\n",
      "                      num     0.006995906522757492\n",
      "                     num1   -0.0020114130741843757\n",
      "                      all      0.03117742728867589\n",
      "                     all1     -0.14216072483750178\n"
     ]
    }
   ],
   "source": [
    "# Adjusted Rand Index\n",
    "\n",
    "c1 = clugen.make_random_clustering(n_elements = 10, n_clusters = 2)\n",
    "c2 = clugen.make_random_clustering(n_elements = 10, n_clusters = 5)\n",
    "\n",
    "print_clustering(c1)\n",
    "print_clustering(c2)\n",
    "\n",
    "row_format2 =\"{:>25}\" * (2)\n",
    "for rdm in sim.available_random_models:\n",
    "    print(row_format2.format(rdm, str(sim.adjrand_index(c1, c2, random_model = rdm))))"
   ]
  },
  {
   "cell_type": "code",
   "execution_count": 3,
   "metadata": {},
   "outputs": [
    {
     "data": {
      "image/png": "[encoded data removed]",
      "text/plain": [
       "<matplotlib.figure.Figure at 0x109f4fe10>"
      ]
     },
     "metadata": {},
     "output_type": "display_data"
    }
   ],
   "source": [
    "# An example sampling from a random distrubtion of clusterings\n",
    "\n",
    "ground_truth = Clustering()\n",
    "ground_truth.from_membership_list([1, 1, 1, 1, 1, 1, 1, 1, 1, 1, 1, 1, 1, 3, 3, 3, 2, 2, 2, 2, 2, 2, 2, 2, 2, 2, 2, 2, 2, 2, 2, 2, 2, 2, 2, 0, 0, 0, 0, 0, 0, 0])\n",
    "\n",
    "detected_clustering = Clustering()\n",
    "detected_clustering.from_membership_list([1, 1, 1, 1, 1, 1, 1, 1, 1, 1, 1, 1, 1, 1, 1, 1, 1, 3, 3, 1, 1, 0, 1, 1, 1, 1, 1, 1, 1, 1, 1, 1, 1, 1, 1, 1, 0, 2, 3, 3, 2, 1])\n",
    "\n",
    "Nsamples = [100, int(100*99/2)]\n",
    "model_list = ['perm', 'num1']\n",
    "true_value = sim.rand_index(detected_clustering, ground_truth)\n",
    "\n",
    "fig, ax = plt.subplots(2,1, sharex = True, figsize = (8,8), gridspec_kw={'hspace':0.4})\n",
    "bins = np.linspace(0.4, 0.7, 41)\n",
    "\n",
    "titles = ['Permutation Model', 'One-sided Fixed Number of Clusters']\n",
    "for iax in range(2):\n",
    "    pairwise_comparisons = sim.sample_expected_sim(detected_clustering, ground_truth, measure = 'rand_index', \n",
    "                                                       random_model = model_list[iax], \n",
    "                                                      nsamples = Nsamples[iax], keep_samples = True)\n",
    "\n",
    "    rand_dist, bins = np.histogram(pairwise_comparisons, bins = bins)\n",
    "\n",
    "    ax[iax].bar(0.5*(bins[:-1] + bins[1:]), rand_dist, width = 0.95*np.abs(bins[:-1] - bins[1:]), alpha = 0.4)\n",
    "    \n",
    "    exp_value = sim.expected_rand_index(ground_truth.n_elements, random_model = model_list[iax], \n",
    "                                         n_clusters1 = detected_clustering.n_clusters, \n",
    "                                         n_clusters2 = ground_truth.n_clusters, \n",
    "                                         clu_size_seq1 = detected_clustering.clu_size_seq, \n",
    "                                         clu_size_seq2 = ground_truth.clu_size_seq)\n",
    "    \n",
    "    ax[iax].plot([exp_value,exp_value], [0, rand_dist.max()], c = 'k', ls = '--')\n",
    "\n",
    "    ax[iax].plot([true_value,true_value], [0, rand_dist.max()], c = sns.color_palette()[3])\n",
    "    ax[iax].set_title(titles[iax])\n",
    "    \n",
    "ax[1].set_xlabel('Rand Index')\n",
    "plt.show()"
   ]
  },
  {
   "cell_type": "code",
   "execution_count": null,
   "metadata": {},
   "outputs": [],
   "source": []
  }
 ],
 "metadata": {
  "kernelspec": {
   "display_name": "Python 3",
   "language": "python",
   "name": "python3"
  },
  "language_info": {
   "codemirror_mode": {
    "name": "ipython",
    "version": 3
   },
   "file_extension": ".py",
   "mimetype": "text/x-python",
   "name": "python",
   "nbconvert_exporter": "python",
   "pygments_lexer": "ipython3",
   "version": "3.6.4"
  }
 },
 "nbformat": 4,
 "nbformat_minor": 2
}
