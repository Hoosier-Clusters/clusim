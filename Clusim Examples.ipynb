{
 "cells": [
  {
   "cell_type": "code",
   "execution_count": 1,
   "metadata": {},
   "outputs": [],
   "source": [
    "import clusim\n",
    "\n",
    "import numpy as np\n",
    "\n",
    "import matplotlib.pylab as plt\n",
    "import seaborn as sns\n",
    "sns.set_style('white')"
   ]
  },
  {
   "cell_type": "code",
   "execution_count": 2,
   "metadata": {},
   "outputs": [
    {
     "name": "stdout",
     "output_type": "stream",
     "text": [
      "['jaccard_index', 'rand_index', 'fowlkes_mallows_index', 'rogers_tanimoto_index', 'southwood_index', 'czekanowski_index', 'dice_index', 'sorensen_index', 'pearson_correlation', 'classification_error', 'purity_index', 'fmeasure', 'nmi', 'vi', 'geometric_accuracy', 'overlap_quality', 'onmi', 'omega_index']\n"
     ]
    }
   ],
   "source": [
    "print(clusim.available_similarity_measures)\n",
    "row_format2 =\"{:>25}\" * (2)\n",
    "row_format3 =\"{:>25}\" * (3)"
   ]
  },
  {
   "cell_type": "code",
   "execution_count": 11,
   "metadata": {},
   "outputs": [
    {
     "name": "stdout",
     "output_type": "stream",
     "text": [
      "0|1|23|4|56|7|8|9\n",
      "01|2|3|4|56|97|8\n",
      "            jaccard_index                     0.25\n",
      "               rand_index       0.9333333333333333\n",
      "    fowlkes_mallows_index       0.4082482904638631\n",
      "    rogers_tanimoto_index                    0.875\n",
      "          southwood_index       0.3333333333333333\n",
      "        czekanowski_index                      0.4\n",
      "               dice_index                      0.4\n",
      "           sorensen_index                      0.4\n",
      "      pearson_correlation    0.0035991140642303433\n",
      "     classification_error      0.19999999999999996\n",
      "             purity_index                      0.8\n",
      "                 fmeasure                      0.4\n",
      "                      nmi       0.8936897079186655\n",
      "                       vi       0.5999999999999992\n",
      "       geometric_accuracy       0.8485281374238571\n",
      "          overlap_quality                     -0.0\n",
      "                  nmi_lfk        0.839112692936409\n",
      "              omega_index      0.36619718309859156\n"
     ]
    }
   ],
   "source": [
    "c1 = clusim.make_random_clustering(n_elements = 10, n_clusters = 2)\n",
    "c2 = clusim.make_random_clustering(n_elements = 10, n_clusters = 5)\n",
    "\n",
    "clusim.print_clustering(c1)\n",
    "clusim.print_clustering(c2)\n",
    "\n",
    "for simfunc in clusim.available_similarity_measures:\n",
    "    print(row_format2.format(simfunc, eval('clusim.' + simfunc+'(c1, c2)')))"
   ]
  },
  {
   "cell_type": "code",
   "execution_count": 5,
   "metadata": {},
   "outputs": [
    {
     "name": "stdout",
     "output_type": "stream",
     "text": [
      "                     perm        0.239864864864865\n",
      "                    perm1        0.239864864864865\n",
      "                      num        0.368404165916982\n",
      "                     num1        0.315394343296465\n",
      "                      all        0.254751867145135\n",
      "                     all1        0.247435049702705\n"
     ]
    }
   ],
   "source": [
    "# Adjusted Rand Index\n",
    "for rdm in clusim.available_random_models:\n",
    "    print(row_format2.format(rdm, str(clusim.adjrand_index(c1, c2, random_model = rdm))))"
   ]
  },
  {
   "cell_type": "code",
   "execution_count": 6,
   "metadata": {},
   "outputs": [
    {
     "name": "stdout",
     "output_type": "stream",
     "text": [
      "                     perm         0.19519468076469\n",
      "                    perm1         0.19519468076469\n",
      "                      num        0.302485929095454\n",
      "                     num1         0.25291951521311\n",
      "                      all      -0.0429306690181899\n",
      "                     all1       0.0740778076229609\n"
     ]
    }
   ],
   "source": [
    "# Adjusted Mutual Information\n",
    "for rdm in clusim.available_random_models:\n",
    "    print(row_format2.format(rdm, str(clusim.adj_mi(c1, c2, random_model = rdm))))"
   ]
  },
  {
   "cell_type": "code",
   "execution_count": 10,
   "metadata": {},
   "outputs": [
    {
     "data": {
      "image/png": "[encoded data removed]",
      "text/plain": [
       "<matplotlib.figure.Figure at 0x10d412390>"
      ]
     },
     "metadata": {},
     "output_type": "display_data"
    }
   ],
   "source": [
    "# An example sampling from a random distrubtion of clusterings\n",
    "\n",
    "ground_truth = clusim.Clustering()\n",
    "ground_truth.from_membership_list([1, 1, 1, 1, 1, 1, 1, 1, 1, 1, 1, 1, 1, 3, 3, 3, 2, 2, 2, 2, 2, 2, 2, 2, 2, 2, 2, 2, 2, 2, 2, 2, 2, 2, 2, 0, 0, 0, 0, 0, 0, 0])\n",
    "\n",
    "detected_clustering = clusim.Clustering()\n",
    "detected_clustering.from_membership_list([1, 1, 1, 1, 1, 1, 1, 1, 1, 1, 1, 1, 1, 1, 1, 1, 1, 3, 3, 1, 1, 0, 1, 1, 1, 1, 1, 1, 1, 1, 1, 1, 1, 1, 1, 1, 0, 2, 3, 3, 2, 1])\n",
    "\n",
    "Nsamples = [100, int(100*99/2)]\n",
    "model_list = ['perm', 'num1']\n",
    "true_value = clusim.rand_index(detected_clustering, ground_truth)\n",
    "\n",
    "fig, ax = plt.subplots(2,1, sharex = True, figsize = (8,8), gridspec_kw={'hspace':0.4})\n",
    "bins = np.linspace(0.4, 0.7, 41)\n",
    "\n",
    "titles = ['Permutation Model', 'One-sided Fixed Number of Clusters']\n",
    "for iax in range(2):\n",
    "    pairwise_comparisons = clusim.sample_expected_sim(detected_clustering, ground_truth, measure = 'rand_index', \n",
    "                                                       random_model = model_list[iax], \n",
    "                                                      nsamples = Nsamples[iax], keep_samples = True)\n",
    "\n",
    "    rand_dist, bins = np.histogram(pairwise_comparisons, bins = bins)\n",
    "\n",
    "    ax[iax].bar(0.5*(bins[:-1] + bins[1:]), rand_dist, width = 0.95*np.abs(bins[:-1] - bins[1:]), alpha = 0.4)\n",
    "    \n",
    "    exp_value = clusim.expected_rand_index(ground_truth.n_elements, random_model = model_list[iax], \n",
    "                                         n_clusters1 = detected_clustering.n_clusters, \n",
    "                                         n_clusters2 = ground_truth.n_clusters, \n",
    "                                         clu_size_seq1 = detected_clustering.clu_size_seq, \n",
    "                                         clu_size_seq2 = ground_truth.clu_size_seq)\n",
    "    \n",
    "    ax[iax].plot([exp_value,exp_value], [0, rand_dist.max()], c = 'k', ls = '--')\n",
    "\n",
    "    ax[iax].plot([true_value,true_value], [0, rand_dist.max()], c = sns.color_palette()[3])\n",
    "    ax[iax].set_title(titles[iax])\n",
    "    \n",
    "ax[1].set_xlabel('Rand Index')\n",
    "plt.show()"
   ]
  },
  {
   "cell_type": "code",
   "execution_count": 9,
   "metadata": {},
   "outputs": [
    {
     "name": "stdout",
     "output_type": "stream",
     "text": [
      "01|23|45\n",
      "0|1234|5\n",
      "Element-centric Similarity: 0.4166666666666667\n",
      "Element-centric Similarity for each element:\n",
      "[0.5  0.25 0.5  0.5  0.25 0.5 ]\n",
      "\n",
      "012|23|45\n",
      "Element-centric Similarity: 0.7017543859649121\n",
      "Element-centric Similarity for each element:\n",
      "[0.45614035 0.45614035 0.61403509 0.68421053 1.         1.        ]\n"
     ]
    }
   ],
   "source": [
    "# Element-centeric Clustering Similarity\n",
    "\n",
    "# first consider the case of two partitions (no overlap or hierarchy)\n",
    "clustering1 = clusim.Clustering(elm2clu_dict = {0:[0], 1:[0], 2:[1], 3:[1], 4:[2], 5:[2]})\n",
    "clustering2 = clusim.Clustering(elm2clu_dict = {0:[0], 1:[1], 2:[1], 3:[1], 4:[1], 5:[2]})\n",
    "\n",
    "clusim.print_clustering(clustering1)\n",
    "clusim.print_clustering(clustering2)\n",
    "print(\"Element-centric Similarity:\", clusim.element_sim(clustering1, clustering2, alpha = 0.9) )\n",
    "print(\"Element-centric Similarity for each element:\")\n",
    "elementScores, relabeled_elements = clusim.element_sim_elscore(clustering1, clustering2, alpha = 0.9) \n",
    "print(elementScores)\n",
    "\n",
    "print()\n",
    "# now lets conisder an example with overlap\n",
    "clustering3 = clusim.Clustering(elm2clu_dict = {0:[0], 1:[0], 2:[0,1], 3:[1], 4:[2], 5:[2]})\n",
    "clusim.print_clustering(clustering3)\n",
    "print(\"Element-centric Similarity:\", clusim.element_sim(clustering1, clustering3, alpha = 0.9))\n",
    "print(\"Element-centric Similarity for each element:\")\n",
    "elementScores, relabeled_elements = clusim.element_sim_elscore(clustering1, clustering3, alpha = 0.9)\n",
    "print(elementScores)"
   ]
  },
  {
   "cell_type": "code",
   "execution_count": 5,
   "metadata": {},
   "outputs": [
    {
     "name": "stdout",
     "output_type": "stream",
     "text": [
      "03|125|4\n",
      "03|12|45\n",
      "(2.0, 2.0, 1.0, 10.0)\n",
      "jaccard_index:0.4\n",
      "rand_index:0.8\n",
      "fowlkes_mallows_index:0.5773502691896258\n",
      "rogers_tanimoto_index:0.6666666666666666\n",
      "southwood_index:0.6666666666666666\n",
      "czekanowski_index:0.5714285714285714\n",
      "dice_index:0.5714285714285714\n",
      "sorensen_index:0.5714285714285714\n",
      "pearson_correlation:0.011363636363636364\n",
      "classification_error:0.16666666666666674\n",
      "purity_index:0.8333333333333333\n",
      "fmeasure:0.5714285714285714\n",
      "nmi:0.7396673768007593\n",
      "vi:0.792481250360578\n",
      "geometric_accuracy:0.8333333333333334\n",
      "overlap_quality:-0.0\n",
      "onmi:0.7449589906475155\n",
      "omega_index:0.44444444444444453\n"
     ]
    }
   ],
   "source": [
    "c1_elm2clu_dict = {0:[0], 1:[1], 2:[1], 3:[0], 4:[2], 5:[1]}\n",
    "c2_elm2clu_dict = {0:[0], 1:[1], 2:[1], 3:[0], 4:[2], 5:[2]}\n",
    "\n",
    "c1 = clusim.Clustering(elm2clu_dict = c1_elm2clu_dict)\n",
    "c2 = clusim.Clustering(elm2clu_dict = c2_elm2clu_dict)\n",
    "\n",
    "N11, N10, N01, N00 = clusim.count_pairwise_cooccurence(c1, c2)\n",
    "clusim.print_clustering(c1)\n",
    "clusim.print_clustering(c2)\n",
    "print(clusim.count_pairwise_cooccurence(c1, c2))\n",
    "\n",
    "for simfunc in clusim.available_similarity_measures:\n",
    "    print(simfunc + ':' + str(eval('clusim.' + simfunc+'(c1, c2)')))"
   ]
  },
  {
   "cell_type": "code",
   "execution_count": 10,
   "metadata": {},
   "outputs": [
    {
     "name": "stdout",
     "output_type": "stream",
     "text": [
      "perm:0.5\n",
      "perm1:0.5\n",
      "num:0.510204081632653\n",
      "num1:0.5\n",
      "all:0.555555555555556\n",
      "all1:0.5\n"
     ]
    }
   ],
   "source": [
    "for rdm in clusim.available_random_models:\n",
    "    print(rdm + ':' + str(clusim.expected_rand_index(n_elements = 4, \n",
    "                                       n_clusters1 = 2, \n",
    "                                       n_clusters2 = 2, \n",
    "                                       clu_size_seq1 = [2,2], \n",
    "                                       clu_size_seq2 = [1,3],\n",
    "                                       random_model = rdm) ) )"
   ]
  },
  {
   "cell_type": "code",
   "execution_count": null,
   "metadata": {},
   "outputs": [],
   "source": []
  }
 ],
 "metadata": {
  "kernelspec": {
   "display_name": "Python 3",
   "language": "python",
   "name": "python3"
  },
  "language_info": {
   "codemirror_mode": {
    "name": "ipython",
    "version": 3
   },
   "file_extension": ".py",
   "mimetype": "text/x-python",
   "name": "python",
   "nbconvert_exporter": "python",
   "pygments_lexer": "ipython3",
   "version": "3.6.4"
  }
 },
 "nbformat": 4,
 "nbformat_minor": 2
}
