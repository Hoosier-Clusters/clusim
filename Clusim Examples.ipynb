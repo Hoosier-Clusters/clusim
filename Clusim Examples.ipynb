{
 "cells": [
  {
   "cell_type": "code",
   "execution_count": 23,
   "metadata": {},
   "outputs": [],
   "source": [
    "import clusim\n",
    "\n",
    "import numpy as np\n",
    "\n",
    "import matplotlib.pylab as plt\n",
    "import seaborn as sns\n",
    "sns.set_style('white')"
   ]
  },
  {
   "cell_type": "code",
   "execution_count": 3,
   "metadata": {},
   "outputs": [
    {
     "name": "stdout",
     "output_type": "stream",
     "text": [
      "['jaccard_index', 'rand_index', 'fowlkes_mallows_index', 'rogers_tanimoto_index', 'southwood_index', 'czekanowski_index', 'dice_index', 'sorensen_index', 'pearson_correlation', 'classification_error', 'fmeasure', 'nmi', 'vi', 'geometric_accuracy', 'overlap_quality', 'nmi_lfk', 'omega_index']\n"
     ]
    }
   ],
   "source": [
    "print(clusim.available_similarity_measures)\n",
    "row_format2 =\"{:>25}\" * (2)\n",
    "row_format3 =\"{:>25}\" * (3)"
   ]
  },
  {
   "cell_type": "code",
   "execution_count": 6,
   "metadata": {},
   "outputs": [
    {
     "name": "stdout",
     "output_type": "stream",
     "text": [
      "0|135|247|6|8|9\n",
      "07|1359|26|4|8\n",
      "            jaccard_index       0.2727272727272727\n",
      "               rand_index       0.8222222222222222\n",
      "    fowlkes_mallows_index      0.43301270189221935\n",
      "    rogers_tanimoto_index       0.6981132075471698\n",
      "          southwood_index                    0.375\n",
      "        czekanowski_index      0.42857142857142855\n",
      "               dice_index      0.42857142857142855\n",
      "           sorensen_index      0.42857142857142855\n",
      "      pearson_correlation     0.001256063756063756\n",
      "     classification_error      0.29999999999999993\n",
      "                 fmeasure      0.42857142857142855\n",
      "                      nmi       0.7329106608538911\n",
      "                       vi       1.1999999999999997\n",
      "       geometric_accuracy       0.7483314773547882\n",
      "          overlap_quality                     -0.0\n",
      "                  nmi_lfk        0.684305708511048\n",
      "              omega_index       0.3258426966292132\n"
     ]
    }
   ],
   "source": [
    "c1 = clusim.make_random_clustering(n_elements = 10, n_clusters = 2)\n",
    "c2 = clusim.make_random_clustering(n_elements = 10, n_clusters = 5)\n",
    "\n",
    "clusim.print_clustering(c1)\n",
    "clusim.print_clustering(c2)\n",
    "\n",
    "for simfunc in clusim.available_similarity_measures:\n",
    "    print(row_format2.format(simfunc, eval('clusim.' + simfunc+'(c1, c2)')))"
   ]
  },
  {
   "cell_type": "code",
   "execution_count": 15,
   "metadata": {},
   "outputs": [
    {
     "name": "stdout",
     "output_type": "stream",
     "text": [
      "                     perm        0.325842696629214\n",
      "                    perm1        0.325842696629214\n",
      "                      num        0.263792600675403\n",
      "                     num1         0.29587044534413\n",
      "                      all        0.403801493716108\n",
      "                     all1        0.397948039762164\n"
     ]
    }
   ],
   "source": [
    "# Adjusted Rand Index\n",
    "for rdm in clusim.available_random_models:\n",
    "    print(row_format2.format(rdm, str(clusim.adjrand_index(c1, c2, random_model = rdm))))"
   ]
  },
  {
   "cell_type": "code",
   "execution_count": 16,
   "metadata": {},
   "outputs": [
    {
     "name": "stdout",
     "output_type": "stream",
     "text": [
      "                     perm         0.27045616686859\n",
      "                    perm1         0.27045616686859\n",
      "                      num        0.208230778539507\n",
      "                     num1        0.231901400411349\n",
      "                      all        0.508046831414504\n",
      "                     all1        0.482225836801386\n"
     ]
    }
   ],
   "source": [
    "# Adjusted Mutual Information\n",
    "for rdm in clusim.available_random_models:\n",
    "    print(row_format2.format(rdm, str(clusim.adj_mi(c1, c2, random_model = rdm))))"
   ]
  },
  {
   "cell_type": "code",
   "execution_count": 25,
   "metadata": {},
   "outputs": [
    {
     "data": {
      "image/png": "[encoded data removed]",
      "text/plain": [
       "<matplotlib.figure.Figure at 0x119532ba8>"
      ]
     },
     "metadata": {},
     "output_type": "display_data"
    }
   ],
   "source": [
    "# An example sampling from a random distrubtion of clusterings\n",
    "\n",
    "ground_truth = clusim.Clustering()\n",
    "ground_truth.from_membership_list([1, 1, 1, 1, 1, 1, 1, 1, 1, 1, 1, 1, 1, 3, 3, 3, 2, 2, 2, 2, 2, 2, 2, 2, 2, 2, 2, 2, 2, 2, 2, 2, 2, 2, 2, 0, 0, 0, 0, 0, 0, 0])\n",
    "\n",
    "detected_clustering = clusim.Clustering()\n",
    "detected_clustering.from_membership_list([1, 1, 1, 1, 1, 1, 1, 1, 1, 1, 1, 1, 1, 1, 1, 1, 1, 3, 3, 1, 1, 0, 1, 1, 1, 1, 1, 1, 1, 1, 1, 1, 1, 1, 1, 1, 0, 2, 3, 3, 2, 1])\n",
    "\n",
    "Nsamples = [100, int(100*99/2)]\n",
    "model_list = ['perm', 'num1']\n",
    "true_value = clusim.rand_index(detected_clustering, ground_truth)\n",
    "\n",
    "fig, ax = plt.subplots(2,1, sharex = True, figsize = (8,8), gridspec_kw={'hspace':0.4})\n",
    "bins = np.linspace(0.4, 0.7, 41)\n",
    "\n",
    "titles = ['Permutation Model', 'One-sided Fixed Number of Clusters']\n",
    "for iax in range(2):\n",
    "    pairwise_comparisons = clusim.sample_expected_sim(detected_clustering, ground_truth, measure = 'rand_index', \n",
    "                                                       random_model = model_list[iax], \n",
    "                                                      nsamples = Nsamples[iax], keep_samples = True)\n",
    "\n",
    "    rand_dist, bins = np.histogram(pairwise_comparisons, bins = bins)\n",
    "\n",
    "    ax[iax].bar(0.5*(bins[:-1] + bins[1:]), rand_dist, width = 0.95*np.abs(bins[:-1] - bins[1:]), alpha = 0.4)\n",
    "    \n",
    "    exp_value = clusim.expected_rand_index(ground_truth.n_elements, random_model = model_list[iax], \n",
    "                                         n_clusters1 = detected_clustering.n_clusters, \n",
    "                                         n_clusters2 = ground_truth.n_clusters, \n",
    "                                         clus_size_seq1 = detected_clustering.clus_size_seq, \n",
    "                                         clus_size_seq2 = ground_truth.clus_size_seq)\n",
    "    \n",
    "    ax[iax].plot([exp_value,exp_value], [0, rand_dist.max()], c = 'k', ls = '--')\n",
    "\n",
    "    ax[iax].plot([true_value,true_value], [0, rand_dist.max()], c = sns.color_palette()[3])\n",
    "    ax[iax].set_title(titles[iax])\n",
    "    \n",
    "ax[1].set_xlabel('Rand Index')\n",
    "plt.show()"
   ]
  },
  {
   "cell_type": "code",
   "execution_count": 19,
   "metadata": {},
   "outputs": [
    {
     "name": "stdout",
     "output_type": "stream",
     "text": [
      "01|23|45\n",
      "0|1234|5\n",
      "Element-centric Similarity: 0.4166666666666667\n",
      "Element-centric Similarity for each element:\n",
      "[0.5  0.25 0.5  0.5  0.25 0.5 ]\n",
      "\n",
      "012|23|45\n",
      "Element-centric Similarity: 0.7017543859649121\n",
      "Element-centric Similarity for each element:\n",
      "[0.45614035 0.45614035 0.61403509 0.68421053 1.         1.        ]\n"
     ]
    }
   ],
   "source": [
    "# Element-centeric Clustering Similarity\n",
    "\n",
    "# first consider the case of two partitions (no overlap or hierarchy)\n",
    "clustering1 = clusim.Clustering(elm2clus_dict = {0:[0], 1:[0], 2:[1], 3:[1], 4:[2], 5:[2]})\n",
    "clustering2 = clusim.Clustering(elm2clus_dict = {0:[0], 1:[1], 2:[1], 3:[1], 4:[1], 5:[2]})\n",
    "\n",
    "clusim.print_clustering(clustering1)\n",
    "clusim.print_clustering(clustering2)\n",
    "print(\"Element-centric Similarity:\", clusim.element_sim(clustering1, clustering2, alpha = 0.9) )\n",
    "print(\"Element-centric Similarity for each element:\")\n",
    "elementScores, relabeled_elements = clusim.element_sim_elscore(clustering1, clustering2, alpha = 0.9) \n",
    "print(elementScores)\n",
    "\n",
    "print()\n",
    "# now lets conisder an example with overlap\n",
    "clustering3 = clusim.Clustering(elm2clus_dict = {0:[0], 1:[0], 2:[0,1], 3:[1], 4:[2], 5:[2]})\n",
    "clusim.print_clustering(clustering3)\n",
    "print(\"Element-centric Similarity:\", clusim.element_sim(clustering1, clustering3, alpha = 0.9))\n",
    "print(\"Element-centric Similarity for each element:\")\n",
    "elementScores, relabeled_elements = clusim.element_sim_elscore(clustering1, clustering3, alpha = 0.9)\n",
    "print(elementScores)"
   ]
  },
  {
   "cell_type": "code",
   "execution_count": null,
   "metadata": {},
   "outputs": [],
   "source": []
  }
 ],
 "metadata": {
  "kernelspec": {
   "display_name": "Python 3",
   "language": "python",
   "name": "python3"
  },
  "language_info": {
   "codemirror_mode": {
    "name": "ipython",
    "version": 3
   },
   "file_extension": ".py",
   "mimetype": "text/x-python",
   "name": "python",
   "nbconvert_exporter": "python",
   "pygments_lexer": "ipython3",
   "version": "3.6.4"
  }
 },
 "nbformat": 4,
 "nbformat_minor": 2
}
