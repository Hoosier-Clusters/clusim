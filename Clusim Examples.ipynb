{
 "cells": [
  {
   "cell_type": "code",
   "execution_count": 1,
   "metadata": {
    "collapsed": true
   },
   "outputs": [],
   "source": [
    "%load_ext autoreload\n",
    "%autoreload 2\n",
    "%matplotlib inline"
   ]
  },
  {
   "cell_type": "code",
   "execution_count": 15,
   "metadata": {
    "collapsed": true
   },
   "outputs": [],
   "source": [
    "from clusim.sim import *\n",
    "from clusim.clustering import *\n",
    "from clusim.clugen import *\n",
    "from clusim.plotutils import *\n",
    "from clusim.clusimelement import *"
   ]
  },
  {
   "cell_type": "code",
   "execution_count": 3,
   "metadata": {},
   "outputs": [
    {
     "name": "stdout",
     "output_type": "stream",
     "text": [
      "['jaccard_index', 'rand_index', 'fowlkes_mallows_index', 'rogers_tanimoto_index', 'southwood_index', 'fmeasure', 'nmi', 'vi', 'geometric_accuracy', 'overlap_quality', 'nmi_lfk', 'omega_index']\n"
     ]
    }
   ],
   "source": [
    "print available_similarity_measures\n",
    "row_format2 =\"{:>25}\" * (2)\n",
    "row_format3 =\"{:>25}\" * (3)"
   ]
  },
  {
   "cell_type": "code",
   "execution_count": 4,
   "metadata": {},
   "outputs": [
    {
     "name": "stdout",
     "output_type": "stream",
     "text": [
      "0|35|87|14|926\n",
      "847|6|3|15|092\n",
      "            jaccard_index           0.181818181818\n",
      "               rand_index                      0.8\n",
      "    fowlkes_mallows_index           0.308606699924\n",
      "    rogers_tanimoto_index           0.666666666667\n",
      "          southwood_index           0.222222222222\n",
      "                 fmeasure           0.307692307692\n",
      "                      nmi           0.677079390702\n",
      "                       vi            1.42646625065\n",
      "       geometric_accuracy                      0.7\n",
      "          overlap_quality                     -0.0\n",
      "                  nmi_lfk           0.547850223247\n",
      "              omega_index           0.191616766467\n"
     ]
    }
   ],
   "source": [
    "c1 = make_random_clustering(n_elements = 10, n_clusters = 2)\n",
    "c2 = make_random_clustering(n_elements = 10, n_clusters = 5)\n",
    "\n",
    "print_clustering(c1)\n",
    "print_clustering(c2)\n",
    "\n",
    "for simfunc in available_similarity_measures:\n",
    "    print row_format2.format(simfunc, eval(simfunc+'(c1, c2)'))"
   ]
  },
  {
   "cell_type": "code",
   "execution_count": 5,
   "metadata": {},
   "outputs": [
    {
     "name": "stdout",
     "output_type": "stream",
     "text": [
      "                     perm        0.191616766467066\n",
      "                    perm1        0.191616766467066\n",
      "                      num        0.268677971300877\n",
      "                     num1        0.254174169258472\n",
      "                      all        0.329276680430622\n",
      "                     all1        0.288682156384636\n"
     ]
    }
   ],
   "source": [
    "for rdm in available_random_models:\n",
    "    print row_format2.format(rdm, adjrand_index(c1, c2, random_model = rdm))"
   ]
  },
  {
   "cell_type": "code",
   "execution_count": 6,
   "metadata": {},
   "outputs": [
    {
     "name": "stdout",
     "output_type": "stream",
     "text": [
      "                     perm        0.215408520829728\n",
      "                    perm1        0.215408520829728\n",
      "                      num          0.2676906312963\n",
      "                     num1        0.264686107121247\n",
      "                      all         0.35706933098181\n",
      "                     all1        0.310546011977348\n"
     ]
    }
   ],
   "source": [
    "for rdm in available_random_models:\n",
    "    print row_format2.format(rdm, adj_mi(c1, c2, random_model = rdm))"
   ]
  },
  {
   "cell_type": "code",
   "execution_count": 10,
   "metadata": {},
   "outputs": [
    {
     "name": "stdout",
     "output_type": "stream",
     "text": [
      "024|13\n",
      "0|13|24\n",
      "                     perm                     0.56                     0.56\n",
      "                    perm1                     0.56                     0.56\n",
      "                      num        0.517333333333333           0.517333333333\n",
      "                     num1                     0.52                     0.52\n",
      "                      all        0.589497041420118            0.58949704142\n",
      "                     all1        0.626923076923077           0.626923076923\n"
     ]
    }
   ],
   "source": [
    "N = 5\n",
    "\n",
    "c1 = make_equal_clustering(n_elements = N, n_clusters = 2)\n",
    "c2 = make_random_clustering(n_elements = N, n_clusters = 3, random_model = 'num')\n",
    "\n",
    "print_clustering(c1)\n",
    "print_clustering(c2)\n",
    "\n",
    "for rdm in available_random_models:\n",
    "    if '1' in rdm:\n",
    "        random_model_ensemble1 = [clus for clus in clustering_ensemble_generator(c1, random_model = rdm[:-1])]\n",
    "        random_model_ensemble2 = [c2]\n",
    "    else:\n",
    "        random_model_ensemble1 = [clus for clus in clustering_ensemble_generator(c1, random_model = rdm)]\n",
    "        random_model_ensemble2 = [clus for clus in clustering_ensemble_generator(c2, random_model = rdm)]\n",
    "    all_pairwise_rand = [rand_index(rc1, rc2) for rc1, rc2 in itertools.product(random_model_ensemble1, random_model_ensemble2)]\n",
    "    \n",
    "    analyitical_exp_rand = expected_rand_index(n_elements = c1.n_elements, \n",
    "                                       n_clusters1 = c1.n_clusters, \n",
    "                                       n_clusters2 = c2.n_clusters, \n",
    "                                       clus_size_seq1 = c1.clus_size_seq, \n",
    "                                       clus_size_seq2 = c2.clus_size_seq, \n",
    "                                       random_model = rdm)\n",
    "    print row_format3.format(rdm, analyitical_exp_rand, np.mean(all_pairwise_rand))"
   ]
  },
  {
   "cell_type": "code",
   "execution_count": 13,
   "metadata": {},
   "outputs": [
    {
     "name": "stdout",
     "output_type": "stream",
     "text": [
      "0|12|4|3\n",
      "02|14|3\n",
      "                     perm         1.20192809488736            1.20192809489\n",
      "                    perm1         1.20192809488736            1.20192809489\n",
      "                      num         1.15753709471429            1.15753709471\n",
      "                     num1         1.20192809488736            1.20192809489\n",
      "                      all         0.73538377366121           0.735383773661\n",
      "                     all1        0.803822746742339           0.803822746742\n"
     ]
    }
   ],
   "source": [
    "N = 5\n",
    "\n",
    "c1 = make_random_clustering(n_elements = N, random_model = 'all')\n",
    "c2 = make_random_clustering(n_elements = N, n_clusters = 3, random_model = 'num')\n",
    "\n",
    "print_clustering(c1)\n",
    "print_clustering(c2)\n",
    "\n",
    "for rdm in available_random_models:\n",
    "    if '1' in rdm:\n",
    "        random_model_ensemble1 = [clus for clus in clustering_ensemble_generator(c1, random_model = rdm[:-1])]\n",
    "        random_model_ensemble2 = [c2]\n",
    "    else:\n",
    "        random_model_ensemble1 = [clus for clus in clustering_ensemble_generator(c1, random_model = rdm)]\n",
    "        random_model_ensemble2 = [clus for clus in clustering_ensemble_generator(c2, random_model = rdm)]\n",
    "    all_pairwise_mi = [nmi(rc1, rc2, norm_type = 'none') for rc1, rc2 in itertools.product(random_model_ensemble1, random_model_ensemble2)]\n",
    "    \n",
    "    analyitical_exp_mi = expected_mi(n_elements = c1.n_elements, \n",
    "                                       n_clusters1 = c1.n_clusters, \n",
    "                                       n_clusters2 = c2.n_clusters, \n",
    "                                       clus_size_seq1 = c1.clus_size_seq, \n",
    "                                       clus_size_seq2 = c2.clus_size_seq, \n",
    "                                       random_model = rdm)\n",
    "    print row_format3.format(rdm, analyitical_exp_mi, np.mean(all_pairwise_mi))"
   ]
  },
  {
   "cell_type": "code",
   "execution_count": 31,
   "metadata": {},
   "outputs": [
    {
     "name": "stdout",
     "output_type": "stream",
     "text": [
      "01|23|45\n",
      "0|1234|5\n",
      "Element-centric Similarity: 0.416666666667\n",
      "Element-centric Similarity for each element:\n",
      "[ 0.5   0.25  0.5   0.5   0.25  0.5 ]\n",
      "\n",
      "Element-centric Similarity: 0.701754385965\n",
      "Element-centric Similarity for each element:\n",
      "[ 0.45614035  0.45614035  0.61403509  0.68421053  1.          1.        ]\n"
     ]
    }
   ],
   "source": [
    "# Element-centeric Clustering Similarity\n",
    "\n",
    "# first consider the case of two partitions (no overlap or hierarchy)\n",
    "clustering1 = Clustering(elm2clus_dict = {0:[0], 1:[0], 2:[1], 3:[1], 4:[2], 5:[2]})\n",
    "clustering2 = Clustering(elm2clus_dict = {0:[0], 1:[1], 2:[1], 3:[1], 4:[1], 5:[2]})\n",
    "\n",
    "print_clustering(clustering1)\n",
    "print_clustering(clustering2)\n",
    "print \"Element-centric Similarity:\", element_sim(clustering1, clustering2, alpha = 0.9)\n",
    "print \"Element-centric Similarity for each element:\"\n",
    "nodeScores, relabeled_elements = element_sim_elscore(clustering1, clustering2, alpha = 0.9)\n",
    "print nodeScores\n",
    "\n",
    "print\n",
    "# now lets conisder an example with overlap\n",
    "clustering3 = Clustering(elm2clus_dict = {0:[0], 1:[0], 2:[0,1], 3:[1], 4:[2], 5:[2]})\n",
    "print \"Element-centric Similarity:\", element_sim(clustering1, clustering3, alpha = 0.9)\n",
    "print \"Element-centric Similarity for each element:\"\n",
    "nodeScores, relabeled_elements = element_sim_elscore(clustering1, clustering3, alpha = 0.9)\n",
    "print nodeScores"
   ]
  },
  {
   "cell_type": "code",
   "execution_count": null,
   "metadata": {
    "collapsed": true
   },
   "outputs": [],
   "source": []
  }
 ],
 "metadata": {
  "kernelspec": {
   "display_name": "Python 2",
   "language": "python",
   "name": "python2"
  },
  "language_info": {
   "codemirror_mode": {
    "name": "ipython",
    "version": 2
   },
   "file_extension": ".py",
   "mimetype": "text/x-python",
   "name": "python",
   "nbconvert_exporter": "python",
   "pygments_lexer": "ipython2",
   "version": "2.7.13"
  }
 },
 "nbformat": 4,
 "nbformat_minor": 1
}
